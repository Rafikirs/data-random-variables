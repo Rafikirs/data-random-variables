{
 "cells": [
  {
   "cell_type": "markdown",
   "metadata": {},
   "source": [
    "# Random Variables"
   ]
  },
  {
   "cell_type": "markdown",
   "metadata": {},
   "source": [
    "🎯 The goal of this notebook is to build **intuitions about probability theory**."
   ]
  },
  {
   "cell_type": "code",
   "execution_count": 1,
   "metadata": {},
   "outputs": [],
   "source": [
    "# --- Math and Data Manipulation\n",
    "import numpy as np\n",
    "import math\n",
    "\n",
    "# --- Data Visualisation\n",
    "import matplotlib.pyplot as plt\n",
    "from matplotlib import colors\n",
    "import seaborn as sns"
   ]
  },
  {
   "cell_type": "markdown",
   "metadata": {},
   "source": [
    "## 1. Bernoulli and Binomial distributions"
   ]
  },
  {
   "cell_type": "markdown",
   "metadata": {},
   "source": [
    "### 1.1 Flipping a coin multiple times"
   ]
  },
  {
   "cell_type": "markdown",
   "metadata": {},
   "source": [
    "💡 Quick reminder : \n",
    "* a probability equal to 0 (= 0%) means that an event will _never occur_\n",
    "* a probability equal to 1 (= 100%)  means that an event will _happen for sure_.\n",
    "\n",
    "👉 Suppose that we **`flip a coin 4 times`** 👈\n",
    "\n",
    "❓ Can you answer the following ***questions*** ❓\n",
    "1. How many possible outcomes do we have?\n",
    "2. What is the probability of getting 4 heads?\n",
    "3. What is the probability of getting exactly 2 heads and 2 tails?\n",
    "\n",
    "✍️ Take your time to grab a pen and a piece of paper to answer these questions. You can draw a `tree` to help you answers these questions.\n",
    "\n",
    "\n",
    "<details>\n",
    "    <summary><i>Hint</i></summary>\n",
    "\n",
    "\n",
    "<i>Think about the possible results of each flip: it is either a **head** (1) or a **tail** (0)</i>\n",
    "</details>"
   ]
  },
  {
   "cell_type": "code",
   "execution_count": null,
   "metadata": {},
   "outputs": [],
   "source": [
    "# YOUR TURN"
   ]
  },
  {
   "cell_type": "markdown",
   "metadata": {},
   "source": [
    "💡 Untoggle the _answers_ and the _visual representation_ below only after searching for 10-15 minutes."
   ]
  },
  {
   "cell_type": "markdown",
   "metadata": {},
   "source": [
    "<details>\n",
    "    <summary>Answers</summary>\n",
    "\n",
    "> ***1.*** How many possible outcomes do we have when flipping a coin 4 times ? \n",
    "\n",
    "There are $16 = 2 \\times 2 \\times 2 \\times 2 = 2^4$ possible outcomes.\n",
    "\n",
    "| Flip 1 | Flip 2 | Flip 3 | Flip 4 |\n",
    "|:--------:|:--------:|:--------:|:------:|\n",
    "| 1      | 1      | 1      | 1      |\n",
    "| 1      | 1      | 1      | 0      |\n",
    "| 1      | 1      | 0      | 1      |\n",
    "| 1      | 1      | 0      | 0      |\n",
    "| 1      | 0      | 1      | 1      |\n",
    "| 1      | 0      | 1      | 0      |\n",
    "| 1      | 0      | 0      | 1      |\n",
    "| 1      | 0      | 0      | 0      |\n",
    "| 0      | 1      | 1      | 1      |\n",
    "| 0      | 1      | 1      | 0      |\n",
    "| 0      | 1      | 0      | 1      |\n",
    "| 0      | 1      | 0      | 0      |\n",
    "| 0      | 0      | 1      | 1      |\n",
    "| 0      | 0      | 1      | 0      |\n",
    "| 0      | 0      | 0      | 1      |\n",
    "| 0      | 0      | 0      | 0      |\n",
    "\n",
    "    \n",
    "> ***2.*** What is the probability of getting 4 heads?\n",
    "\n",
    "There is only  1 way of getting 4 heads (and hence no tails).\n",
    "\n",
    "| Flip 1 | Flip 2 | Flip 3 | Flip 4 |\n",
    "|:--------:|:--------:|:--------:|:------:|\n",
    "| 1      | 1      | 1      | 1      |\n",
    "\n",
    "Let's call __A__ the event of getting exactly 4 heads.  The probability of A is:\n",
    "\n",
    "$$ P(A) = \\frac{1}{16} = 0.0625 = 6.25 \\% $$\n",
    "\n",
    "\n",
    "> ***3.*** What is the probability of getting exactly 2 heads and 2 tails?\n",
    "\n",
    "There are 6 ways of getting 2 heads (and hence 2 tails).\n",
    "\n",
    "| Flip 1 | Flip 2 | Flip 3 | Flip 4 |\n",
    "|:--------:|:--------:|:--------:|:------:|\n",
    "| 1      | 1      | 0      | 0      |\n",
    "| 1      | 0      | 1      | 0      |\n",
    "| 1      | 0      | 0      | 1      |\n",
    "| 0      | 1      | 1      | 0      |\n",
    "| 0      | 1      | 0      | 1      |\n",
    "| 0      | 0      | 1      | 1      |\n",
    "\n",
    "\n",
    "Let's call __B__ the event of getting exactly 2 heads and 2 tails. The probability of B is:\n",
    "\n",
    "$$ P(B) = \\frac{6}{16} = 0.375 = 37.5 \\% $$\n",
    "\n",
    "</details>"
   ]
  },
  {
   "cell_type": "markdown",
   "metadata": {},
   "source": [
    "<details>\n",
    "           <summary>Visual representation of this 4-coin experiment</summary>\n",
    "\n",
    "<img src=\"https://wagon-public-datasets.s3.amazonaws.com/data-science-images/math/toss_a_coin_four_times.jpeg\">\n",
    "\n",
    "</details>"
   ]
  },
  {
   "cell_type": "markdown",
   "metadata": {},
   "source": [
    "### 1.2 A bit of theory about Binomial distributions (reading section)"
   ]
  },
  {
   "cell_type": "markdown",
   "metadata": {},
   "source": [
    "---\n",
    "\n",
    "\n",
    "❓❗️ With 4 flips, we can count the possibilities of the different scenarios \"manually\", but how would you do that with 200 flips ❓❗️\n",
    "\n",
    "---\n",
    "\n",
    "🧑‍🔬 **The context**:\n",
    "\n",
    "- We are running an experiment $n$ times\n",
    "- Each experiment has a probability $ p \\in [0,1] $ of **success** ($ \\Leftrightarrow $ a probability $ 1 - p $ of **failure**) \n",
    "\n",
    "😉 In the context of a **fair coin**, we obviously have $ p = 1 - p = 50 \\% = 0.5 $\n",
    "\n",
    "<u>Vocabulary:</u>\n",
    "* An experiment with only two outcomes (success/failure) has a **Bernoulli (p) distribution**.\n",
    "* When we repeat this Bernoulli process n times and count the numbers success $X$, we talk about a **Binomial (n,p) distribution**.\n",
    "\n",
    "\n",
    "\n",
    "🧑🏻‍🏫 **Counting the number of \"successes\" among n repeated experiments**:\n",
    "\n",
    "Counting the number of ways to get $k$ heads (the successes) among $n$ flips (the repeated experiment) ...\n",
    "\n",
    "...is equivalent to counting the number of ways to select $k$ items from a set that has $n$ distinct elements, *such that the order of selection does not matter*\n",
    "\n",
    "- If the order mattered, picking $k$ elements *one-by-one* among $n$ could be done in $n(n−1)...(n−k+1)$ ways ($n$ choice for the first element, $n-1$ for the second, ..., $n−k+1$ for the $k$-th )\n",
    "\n",
    "- However, in this ordered count, any *unordered set* of $k$ elements have been counted $k(k-1)(k-2)...$ times ($k$ choice for the first, $k-1$ for the second, etc...)\n",
    "\n",
    "- Therefore, if we want the *unordered* count, we have to compensate for (divide by) them. Hence, **the number of ways to get k successes out of n experiments** is given by:\n",
    "\n",
    "$${\\frac {n(n-1)\\dotsb (n-k+1)}{k(k-1)\\dotsb 1}}$$\n",
    "\n",
    "This is mathematically equivalent to:\n",
    "\n",
    "$$ \\frac{n!}{k! (n - k)!} \\text{ , where  } n! = 1\\times 2 \\times ... \\times n $$\n",
    "\n",
    "and is written\n",
    "\n",
    "$$ \\binom{n}{k} $$\n",
    "\n",
    "\n",
    "\n",
    "* $ \\binom{n}{k} $ reads as `\"n choose k\"`, or `\"binomial coefficient for k among n\"` \n",
    "* $ n!$ reads as `\"n factorial\"` \n",
    "\n",
    "📚 [Read This](https://www.mathsisfun.com/combinatorics/combinations-permutations.html)  and discuss about **permutations** and **combinations** with your buddy.\n",
    "\n",
    "(_stop before the \"Pascal triangle\" section_)\n",
    "\n",
    "---\n",
    "\n",
    "😵‍ If you don't understand at first read, it's fine. The discipline of **combinatorics** is not easy. \n",
    "\n",
    "💪 But your buddy, the TAs and teachers are here to help !\n",
    "\n",
    "---"
   ]
  },
  {
   "cell_type": "markdown",
   "metadata": {},
   "source": [
    "### 1.3 Implementing the theory"
   ]
  },
  {
   "cell_type": "markdown",
   "metadata": {},
   "source": [
    "👉 A general principle for \"easy\" situations like cards, coins, dice is to compute the probability of an event as follows: $$ probability = \\frac{possibilities}{all.the.possibilities} $$\n",
    "\n",
    "❓ Let's implement the functions `count_possibilities`, `count_total_possibilities` and  then`probability` down below ❓\n",
    "\n",
    "* <i>Hint</i>: Use 📚 [`math.factorial()`](https://docs.python.org/3/library/math.html)"
   ]
  },
  {
   "cell_type": "code",
   "execution_count": 11,
   "metadata": {},
   "outputs": [],
   "source": [
    "def count_possibilities(n_toss, n_heads):\n",
    "    '''TO DO: return the number of possibilities to get n_heads when flipping the coin n_toss times\n",
    "        Ex: count_possibilities(4, 4)  = 1'''\n",
    "    return math.comb(n_toss, n_heads)\n",
    "    "
   ]
  },
  {
   "cell_type": "code",
   "execution_count": 9,
   "metadata": {},
   "outputs": [],
   "source": [
    "def count_total_possibilities(n_toss):\n",
    "    '''TO DO: return the total amount of different possible outcomes when flipping the coins n_toss times\n",
    "        Ex: count_total_possibilities(3) = [HHH, TTT, HTT, HHT, THH, TTH, THT, HTH] = 8'''\n",
    "    return 2**n_toss"
   ]
  },
  {
   "cell_type": "code",
   "execution_count": 16,
   "metadata": {},
   "outputs": [
    {
     "data": {
      "text/plain": [
       "{0: 9.5367431640625e-07,\n",
       " 1: 1.9073486328125e-05,\n",
       " 2: 0.0001811981201171875,\n",
       " 3: 0.001087188720703125,\n",
       " 4: 0.004620552062988281,\n",
       " 5: 0.0147857666015625,\n",
       " 6: 0.03696441650390625,\n",
       " 7: 0.0739288330078125,\n",
       " 8: 0.12013435363769531,\n",
       " 9: 0.16017913818359375,\n",
       " 10: 0.17619705200195312,\n",
       " 11: 0.16017913818359375,\n",
       " 12: 0.12013435363769531,\n",
       " 13: 0.0739288330078125,\n",
       " 14: 0.03696441650390625,\n",
       " 15: 0.0147857666015625,\n",
       " 16: 0.004620552062988281,\n",
       " 17: 0.001087188720703125,\n",
       " 18: 0.0001811981201171875,\n",
       " 19: 1.9073486328125e-05,\n",
       " 20: 9.5367431640625e-07}"
      ]
     },
     "execution_count": 16,
     "metadata": {},
     "output_type": "execute_result"
    }
   ],
   "source": [
    "def probability(n_toss):\n",
    "    '''TO DO: return a dictionary. The keys will be the possible number of heads in each game,\n",
    "            so they can't be over `n_toss` or under 0. The values for each of those keys will correspond\n",
    "            to the probability of a game ending with that result.\n",
    "      probability(5) = {0: ..., 1:..., 2:..., 3:..., 4:..., 5:...}'''\n",
    "    prob_dict = {}\n",
    "    for i in range(n_toss+1):\n",
    "        prob_dict[i] = count_possibilities(n_toss, i)/count_total_possibilities(n_toss)\n",
    "    return prob_dict\n",
    "probability(20)"
   ]
  },
  {
   "cell_type": "markdown",
   "metadata": {},
   "source": [
    "🧪 Test your results"
   ]
  },
  {
   "cell_type": "code",
   "execution_count": 17,
   "metadata": {},
   "outputs": [
    {
     "name": "stdout",
     "output_type": "stream",
     "text": [
      "\n",
      "\u001b[1m============================= test session starts ==============================\u001b[0m\n",
      "platform linux -- Python 3.10.6, pytest-7.1.3, pluggy-1.0.0 -- /home/raphaelsisso/.pyenv/versions/3.10.6/envs/lewagon/bin/python\n",
      "cachedir: .pytest_cache\n",
      "rootdir: /home/raphaelsisso/code/Rafikirs/03-Maths/02-Statistics-Probabilities/data-random-variables/tests\n",
      "plugins: anyio-3.6.2, asyncio-0.19.0\n",
      "asyncio: mode=strict\n",
      "\u001b[1mcollecting ... \u001b[0mcollected 5 items\n",
      "\n",
      "test_factorial.py::TestFactorial::test_count_possibilities_11 \u001b[32mPASSED\u001b[0m\u001b[32m     [ 20%]\u001b[0m\n",
      "test_factorial.py::TestFactorial::test_count_possibilities_43 \u001b[32mPASSED\u001b[0m\u001b[32m     [ 40%]\u001b[0m\n",
      "test_factorial.py::TestFactorial::test_count_total_possibilities_10 \u001b[32mPASSED\u001b[0m\u001b[32m [ 60%]\u001b[0m\n",
      "test_factorial.py::TestFactorial::test_probability_1 \u001b[32mPASSED\u001b[0m\u001b[32m              [ 80%]\u001b[0m\n",
      "test_factorial.py::TestFactorial::test_probability_100 \u001b[32mPASSED\u001b[0m\u001b[32m            [100%]\u001b[0m\n",
      "\n",
      "\u001b[32m============================== \u001b[32m\u001b[1m5 passed\u001b[0m\u001b[32m in 0.09s\u001b[0m\u001b[32m ===============================\u001b[0m\n",
      "\n",
      "\n",
      "💯 You can commit your code:\n",
      "\n",
      "\u001b[1;32mgit\u001b[39m add tests/factorial.pickle\n",
      "\n",
      "\u001b[32mgit\u001b[39m commit -m \u001b[33m'Completed factorial step'\u001b[39m\n",
      "\n",
      "\u001b[32mgit\u001b[39m push origin master\n",
      "\n"
     ]
    }
   ],
   "source": [
    "from nbresult import ChallengeResult\n",
    "\n",
    "result = ChallengeResult('factorial',\n",
    "                         count_possibilities_11=count_possibilities(1,1),\n",
    "                         count_possibilities_43=count_possibilities(4,3),\n",
    "                         count_total_possibilities_10=count_total_possibilities(10),\n",
    "                         probability_1=probability(1),\n",
    "                         probability_100=probability(100)\n",
    "                        )\n",
    "result.write()\n",
    "print(result.check())"
   ]
  },
  {
   "cell_type": "markdown",
   "metadata": {},
   "source": [
    "<details>\n",
    "    <summary><i>(Optional reading)</i> 🎳  <b>How do we compute the probability of getting <i>k</i> successes among <i>n</i> experiments  when $ p \\neq \\frac{1}{2} $</b> (<i>unfair coin</i>) ?</summary>\n",
    "\n",
    "Don't forget that:\n",
    "* the probability of success is $ \\large p$ and we want $k$ successes $ \\large \\Rightarrow \\underbrace{p \\times p \\times ... \\times p}_\\text{k successes} = p^k $\n",
    "    \n",
    "    \n",
    "* the probability of failure is $ \\large 1-p$ and we want $n-k$ failures $ \\large \\Rightarrow \\underbrace{(1-p) \\times (1-p) \\times ... \\times (1-p)}_\\text{n-k failures} = (1-p)^{n-k}$\n",
    "    \n",
    "* there are $ \\large \\binom{n}{k} = \\frac{n!}{k!(n-k)!} $ ways to obtain k successes among n experiments\n",
    "\n",
    "🔥 The desired probability is given by:\n",
    "\n",
    "$$ \\large \\mathbb{P} (X = k ) = \\binom{n}{k} p^k (1-p)^{n-k} $$\n",
    "    \n",
    "🧨 The formula also works  with $ p = \\frac{1}{2} $ and we have exactly what we computed in the previous function called `probability`:\n",
    "    \n",
    "$$ \\large \\mathbb{P} (X = k ) = \\frac{\\binom{n}{k}}{2^n} $$    \n",
    "\n",
    "</details>"
   ]
  },
  {
   "cell_type": "markdown",
   "metadata": {},
   "source": [
    "👀  Here are some [5 real life examples of the binomial distribution](https://www.statology.org/binomial-distribution-real-life-examples/)"
   ]
  },
  {
   "cell_type": "markdown",
   "metadata": {},
   "source": [
    "### 1.4 Plotting the Binomial distribution: what happens when we toss the coin many times ?"
   ]
  },
  {
   "cell_type": "markdown",
   "metadata": {},
   "source": [
    "👉 Let's start by tossing the coin **4 times** as in the previous section.\n",
    "\n",
    "❓ Using the `probability` function, plot the `distribution` of a 4-coin experiment in a 📊 **bar chart**❓"
   ]
  },
  {
   "cell_type": "code",
   "execution_count": 29,
   "metadata": {
    "tags": [
     "challengify"
    ]
   },
   "outputs": [
    {
     "data": {
      "text/plain": [
       "<AxesSubplot:>"
      ]
     },
     "execution_count": 29,
     "metadata": {},
     "output_type": "execute_result"
    },
    {
     "data": {
      "image/png": "[encoded data removed]",
      "text/plain": [
       "<Figure size 640x480 with 1 Axes>"
      ]
     },
     "metadata": {},
     "output_type": "display_data"
    }
   ],
   "source": [
    "probability(4)\n",
    "x = list(probability(4).keys())\n",
    "y = list(probability(4).values())\n",
    "sns.barplot(x=x, y=y)"
   ]
  },
  {
   "cell_type": "markdown",
   "metadata": {},
   "source": [
    "😉 If you implemented your function correctly, you should visually see that:\n",
    "- the event _\"get 2 heads out of 4\"_ has the highest probability (37.5%) \n",
    "- the distribution is symmetrical\n",
    "- on average, you will get 2 heads"
   ]
  },
  {
   "cell_type": "markdown",
   "metadata": {},
   "source": [
    "❓ Increase the number `n_toss` (1, 5, 10, 20, 30, ...) and  plot the distribution of a `n_toss`-coin experiment in a 📊 **bar chart**, using once again the `probability` function ❓"
   ]
  },
  {
   "cell_type": "code",
   "execution_count": 34,
   "metadata": {
    "tags": [
     "challengify"
    ]
   },
   "outputs": [
    {
     "data": {
      "text/plain": [
       "<AxesSubplot:>"
      ]
     },
     "execution_count": 34,
     "metadata": {},
     "output_type": "execute_result"
    },
    {
     "data": {
      "image/png": "[encoded data removed]",
      "text/plain": [
       "<Figure size 640x480 with 1 Axes>"
      ]
     },
     "metadata": {},
     "output_type": "display_data"
    }
   ],
   "source": [
    "n_toss = 100\n",
    "probability(n_toss)\n",
    "x = list(probability(n_toss).keys())\n",
    "y = list(probability(n_toss).values())\n",
    "sns.barplot(x=x, y=y)"
   ]
  },
  {
   "cell_type": "markdown",
   "metadata": {},
   "source": [
    "❓ How does the probability distribution function evolve when you increase the number of experiments  ❓"
   ]
  },
  {
   "cell_type": "markdown",
   "metadata": {
    "tags": [
     "challengify"
    ]
   },
   "source": [
    "> YOUR ANSWER HERE"
   ]
  },
  {
   "cell_type": "markdown",
   "metadata": {},
   "source": [
    "<details>\n",
    "    <summary>Consequence of increasing the number of tosses:</summary>\n",
    "    \n",
    "* If your implementation of the previous functions is correct, (the more coin flips you do =) **the more `n_toss` increases, the smoother the graph becomes**. 🤩 \n",
    "        \n",
    "* It converges towards the famous “bell curve” *a.k.a.* the **`normal distribution`** 🔥 \n",
    "\n",
    "</details>        "
   ]
  },
  {
   "cell_type": "markdown",
   "metadata": {},
   "source": [
    "## 2. The Geometric distribution"
   ]
  },
  {
   "cell_type": "markdown",
   "metadata": {},
   "source": [
    "### 2.1 Passing the driving license test"
   ]
  },
  {
   "cell_type": "markdown",
   "metadata": {},
   "source": [
    "🚗 Do you have your driving license ? You are probably aware that taking and passing this test is a juicy business... \n",
    "\n",
    "👉  The success rate of each attempt is for example:\n",
    "* $ p_{FR} = 60 \\% $ in France\n",
    "* $ p_{UK} = 54.5 \\% $ in the UK\n",
    "\n",
    "😅 You probably have friends who took the test two or three times before succeeding. \n",
    "\n",
    "❓ What is the probability that a person living in the UK gets his/her driving license on the 2nd attempt ❓"
   ]
  },
  {
   "cell_type": "code",
   "execution_count": null,
   "metadata": {
    "tags": [
     "challengify"
    ]
   },
   "outputs": [],
   "source": [
    "# YOUR CODE HERE"
   ]
  },
  {
   "cell_type": "markdown",
   "metadata": {},
   "source": [
    "<details>\n",
    "    <summary>Explanations</summary>\n",
    "    \n",
    "If a person needed two tests to pass the driving license, it means that he/she:\n",
    "- failed ❌  at the first attempt with probability $ 1 - p$\n",
    "- succeeded ✅ at the second attempt with probability $ p \\in [0,1]$\n",
    "\n",
    "assuming he/she didn't \"learn\" any lesson from the first failed attempt (!)\n",
    "    \n",
    "</details>"
   ]
  },
  {
   "cell_type": "markdown",
   "metadata": {},
   "source": [
    "### 2.2 Modelling the first time of success (short reading section)"
   ]
  },
  {
   "cell_type": "markdown",
   "metadata": {},
   "source": [
    "🧑🏻‍🏫 The goal of the **Geometric distribution** is the compute the <b>probability to succeed for the first time at the n<sup>th</sup> attempt </b>. This implies:\n",
    "- $ n - 1 $ failures, each of them with probability $ 1 - p  \\Rightarrow \\underbrace{(1-p) \\times (1-p) \\times ... \\times (1-p)}_\\text{n-1 failures} = (1-p)^{n-1}$\n",
    "- $ 1 $ unique success with probability $ p $\n",
    "\n",
    "👉 Hence, if we denote by `X` the time of first success, and want to compute the probability of succeeding for the first time at the n<sup>th</sup> attempt </b>, we can use the following formula:\n",
    "\n",
    "$$ \\mathbb{P}(X=n) = (1-p)^{n-1} \\times p $$"
   ]
  },
  {
   "cell_type": "markdown",
   "metadata": {},
   "source": [
    "### 2.3 Application"
   ]
  },
  {
   "cell_type": "markdown",
   "metadata": {},
   "source": [
    "❓ Create a function `probability_first_time` which returns the probability of succeeding for the first time  at the n<sup>th</sup> attempt </b> based in a probability of success $p$ ❓"
   ]
  },
  {
   "cell_type": "code",
   "execution_count": 36,
   "metadata": {},
   "outputs": [],
   "source": [
    "def probability_first_time(p, n):\n",
    "    ''' returns the probability of succeeding at the n-th attempt'''\n",
    "    return ((1-p)**(n-1))*p"
   ]
  },
  {
   "cell_type": "markdown",
   "metadata": {},
   "source": [
    "👇 Let's vizualize the probabilities of the driving license test in the UK.\n",
    "\n",
    "❓ 📊 Plot in a **bar chart** the (decreasing) probabilities of succedding after the 1<sup>st</sup> attempt, the <sup>2nd</sup> attempt, the <sup>3rd</sup> attempt, the <sup>4th</sup> attempt, the <sup>5th</sup> attempt \n"
   ]
  },
  {
   "cell_type": "code",
   "execution_count": 41,
   "metadata": {
    "tags": [
     "challengify"
    ]
   },
   "outputs": [
    {
     "data": {
      "text/plain": [
       "<AxesSubplot:>"
      ]
     },
     "execution_count": 41,
     "metadata": {},
     "output_type": "execute_result"
    },
    {
     "data": {
      "image/png": "[encoded data removed]",
      "text/plain": [
       "<Figure size 640x480 with 1 Axes>"
      ]
     },
     "metadata": {},
     "output_type": "display_data"
    }
   ],
   "source": [
    "p = 0.545\n",
    "prob_ft = [probability_first_time(p, n) for n in range(1, 6)]\n",
    "sns.barplot(x=list(range(1, 6)), y=prob_ft)"
   ]
  },
  {
   "cell_type": "markdown",
   "metadata": {},
   "source": [
    "<details>    \n",
    "    <summary> Visual takeaways:</summary>\n",
    "\n",
    "You should see an *exponential* decrease of probabilities    \n",
    "* The probability of triumphing the first practical driving test is approx 55%\n",
    "* The probability of failing the first one and succeeding in the second one is approx 25%\n",
    "* The probability of failing the first and the second ones and succeeding only in the third one is approx 11%\n",
    "\n",
    "😝 The author of this challenge needed 3 attempts to pass his driving test in France 🤫\n",
    "</details>"
   ]
  },
  {
   "cell_type": "markdown",
   "metadata": {},
   "source": [
    "👀  Here are some [5 real life examples of the geometric distribution](https://www.statology.org/geometric-distribution-real-life-examples/)"
   ]
  },
  {
   "cell_type": "markdown",
   "metadata": {},
   "source": [
    "## 3. Other distributions and conclusion (just a short reading section)"
   ]
  },
  {
   "cell_type": "markdown",
   "metadata": {},
   "source": [
    "### 3.1 Discrete vs. Continous Random Variable"
   ]
  },
  {
   "cell_type": "markdown",
   "metadata": {},
   "source": [
    "<b><u>Discrete Random Variable</u></b>"
   ]
  },
  {
   "cell_type": "markdown",
   "metadata": {},
   "source": [
    "🧑🏻‍🏫  A Random Variable is qualified as **discrete** when its outcome can be \"counted with your fingers\":\n",
    "\n",
    "Here are some examples of discrete random variables:\n",
    "* Success (1) or Failure (0)\n",
    "* Number of successes\n",
    "* First time of success\n",
    "* Goals scored during a football game\n",
    "* Outcome of rolling a dice\n",
    "* Number of tickets raised by a student during the bootcamp\n",
    "* ...\n",
    "\n",
    "💪 There are plenty of classic discrete distributions and we've already covered three of them: `Bernouli(p)`, `Binomial(n,p)`, `Geometric(p)` 👏 👏 👏\n",
    "\n",
    "📚 _Here is an 8-min-read article that you could look into a bit later:_ [Probability Distributions with real life exemples](https://medium.datadriveninvestor.com/probability-distributions-with-real-life-examples-55d054f663a7)"
   ]
  },
  {
   "cell_type": "markdown",
   "metadata": {},
   "source": [
    "<b><u>Continuous Random Variable</u></b>"
   ]
  },
  {
   "cell_type": "markdown",
   "metadata": {},
   "source": [
    "👩🏻‍🏫 A Random Variable is qualified as **continuous** when... it is not discrete, to keep things simple!\n",
    "\n",
    "Here are some examples of continous random variables:\n",
    "* the temperature in 1 week\n",
    "* the percentages of votes for a political party in the next election\n",
    "* the stock price of a listed company in two years\n",
    "* the average IQ in a sampled population\n",
    "* ...\n",
    "\n",
    "🚀 The most famous continuous probability distribution used in Data Science and in life in general is the **`Gaussian Distribution`** $ \\mathcal{N} (\\mu, \\sigma) $. \n",
    "\n",
    "Many features on this planet  have a bell-shaped curve: \n",
    "* the height of  human beings\n",
    "* the weight of new-borns\n",
    "* the IQ\n",
    "* the average retirement age for NFL players\n",
    "* the blood pressure\n",
    "* ...\n",
    "\n",
    "🤔 But why does the Gaussian Distribution appear to model so many physical phenomena ??\n",
    "\n",
    "<details>\n",
    "    <summary markdown='span'>Answer</summary>\n",
    "<br>\n",
    "Because lots of macro-phenomena are the results of a sum (or mean) of independent processes!  \n",
    "    \n",
    "And the **Central Limit Theorem** tells us that sum of random variable converges towards the normal distribution!\n",
    "(more on that in next challenge!)\n",
    "\n",
    "</details>\n",
    "\n",
    "<br>\n",
    "\n",
    "There are many continuous probability distributions out there but it is completely out of the scope of the bootcamp.  \n",
    "So please **stay focused on the Gaussian distribution** during the next weeks ❗️❗️❗️"
   ]
  },
  {
   "cell_type": "markdown",
   "metadata": {},
   "source": [
    "🏁 Congratulations ! You've developped good intuitions about the science of probability !\n",
    " \n",
    "💾 Do not forget to `git add/commit/push` !"
   ]
  }
 ],
 "metadata": {
  "kernelspec": {
   "display_name": "Python 3 (ipykernel)",
   "language": "python",
   "name": "python3"
  },
  "language_info": {
   "codemirror_mode": {
    "name": "ipython",
    "version": 3
   },
   "file_extension": ".py",
   "mimetype": "text/x-python",
   "name": "python",
   "nbconvert_exporter": "python",
   "pygments_lexer": "ipython3",
   "version": "3.10.6"
  },
  "toc": {
   "base_numbering": 1,
   "nav_menu": {},
   "number_sections": true,
   "sideBar": true,
   "skip_h1_title": false,
   "title_cell": "Table of Contents",
   "title_sidebar": "Contents",
   "toc_cell": false,
   "toc_position": {},
   "toc_section_display": true,
   "toc_window_display": false
  }
 },
 "nbformat": 4,
 "nbformat_minor": 4
}
